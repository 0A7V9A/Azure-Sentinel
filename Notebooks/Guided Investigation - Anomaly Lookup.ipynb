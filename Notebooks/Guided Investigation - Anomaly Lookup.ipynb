{
 "cells": [
  {
   "cell_type": "markdown",
   "metadata": {},
   "source": [
    "# Guided Investigation - Anomaly Lookup\n",
    "\n",
    "__Notebook Version:__ 1.0<br>\n",
    "__Python Version:__ Python 3.6 (including Python 3.6 - AzureML)<br>\n",
    "__Required Packages:__ azure 4.0.0, azure-cli-profile 2.1.4<br>\n",
    "__Platforms Supported:__<br>\n",
    "    -  Azure Notebooks Free Compute\n",
    "    -  Azure Notebook on DSVM\n",
    "     \n",
    "__Data Source Required:__<br>\n",
    "    -  Log Analytics tables \n",
    "    \n",
    "### Description\n",
    "Gain insights into the possible root cause of an alert by searching for related anomalies on the corresponding entities around the alert’s time. This notebook will provide valuable leads for an alert’s investigation, listing all suspicious increase in event counts or their properties around the time of the alert, and linking to the corresponding raw records in Log Analytics for the investigator to focus on and interpret.\n",
    "\n",
    "<font>When you switch between Azure Notebooks Free Compute and Data Science Virtual Machine (DSVM), you may need to select Python version: please select Python 3.6 for Free Compute, and Python 3.6 - AzureML for DSVM.</font>"
   ]
  },
  {
   "cell_type": "markdown",
   "metadata": {},
   "source": [
    "## Table of Contents\n",
    "\n",
    "1. Initialize Azure Resource Management Clients\n",
    "2. Looking up for anomaly entities"
   ]
  },
  {
   "cell_type": "markdown",
   "metadata": {},
   "source": [
    "## 1. Initialize Azure Resource Management Clients"
   ]
  },
  {
   "cell_type": "code",
   "execution_count": null,
   "metadata": {},
   "outputs": [],
   "source": [
    "# only run once\n",
    "!pip install --upgrade Azure-Sentinel-Utilities\n",
    "!pip install azure-cli-core"
   ]
  },
  {
   "cell_type": "code",
   "execution_count": null,
   "metadata": {},
   "outputs": [],
   "source": [
    "# User Input and Save to Environmental store\n",
    "from azure.mgmt.loganalytics import LogAnalyticsManagementClient\n",
    "import SentinelAzure\n",
    "from SentinelWidgets import *\n",
    "from SentinelAnomalyLookup import *\n",
    "\n",
    "from pandas.io.json import json_normalize\n",
    "from azure.loganalytics import LogAnalyticsDataClient\n",
    "from azure.loganalytics.models import QueryBody\n",
    "import sys\n",
    "import timeit\n",
    "import datetime as dt\n",
    "import pandas as pd\n",
    "import copy\n",
    "from IPython.display import HTML\n",
    "\n",
    "# User Input and Save to Environmental store\n",
    "# Set to True if you want to reset the environmental values\n",
    "import os\n",
    "from SentinelWidgets import *\n",
    "reset_env_vars = False\n",
    "env_dir = %env\n",
    "env_list = ['tenant_domain', 'subscription_id', 'resource_group']\n",
    "envs =  {env_list[0]:'', env_list[1]:'', env_list[2]:''}\n",
    "envs = WidgetViewHelper.set_env(reset_env_vars, env_dir, envs)\n",
    "tenant_domain = envs[env_list[0]]\n",
    "subscription_id = envs[env_list[1]]\n",
    "resource_group = envs[env_list[2]]"
   ]
  },
  {
   "cell_type": "code",
   "execution_count": null,
   "metadata": {},
   "outputs": [],
   "source": [
    "# Authentication to Log Analytics\n",
    "from azure.common.client_factory import get_client_from_cli_profile\n",
    "from azure.common.credentials import get_azure_cli_credentials\n",
    "# please enter your tenant domain below, for Microsoft, using: microsoft.onmicrosoft.com\n",
    "!az login --tenant $tenant_domain\n",
    "la_client = get_client_from_cli_profile(LogAnalyticsManagementClient, subscription_id = subscription_id)\n",
    "la = SentinelAzure.azure_loganalytics_helper.LogAnalyticsHelper(la_client)\n",
    "creds, _ = get_azure_cli_credentials(resource=\"https://api.loganalytics.io\")\n",
    "la_data_client = LogAnalyticsDataClient(creds)"
   ]
  },
  {
   "cell_type": "markdown",
   "metadata": {},
   "source": [
    "## 2. Looking up for anomaly entities"
   ]
  },
  {
   "cell_type": "code",
   "execution_count": null,
   "metadata": {},
   "outputs": [],
   "source": [
    "# Select a workspace\n",
    "selected_workspace = WidgetViewHelper.select_log_analytics_workspace(la)\n",
    "display(selected_workspace)"
   ]
  },
  {
   "cell_type": "code",
   "execution_count": null,
   "metadata": {},
   "outputs": [],
   "source": [
    "workspace_id = la.get_workspace_id(selected_workspace.value)\n",
    "#DateTime format: 2019-07-15T07:05:20.000\n",
    "q_timestamp = input('DateTime: ')\n",
    "#Entity format: computer\n",
    "q_entity = input('Entity for search: ')"
   ]
  },
  {
   "cell_type": "code",
   "execution_count": null,
   "metadata": {},
   "outputs": [],
   "source": [
    "anomaly_lookup = AnomalyFinder(workspace_id, la_data_client)\n",
    "selected_tables = WidgetViewHelper.select_multiple_tables(anomaly_lookup)\n",
    "display(selected_tables)"
   ]
  },
  {
   "cell_type": "code",
   "execution_count": null,
   "metadata": {},
   "outputs": [],
   "source": [
    "# This action may take a few minutes or more, please be patient.\n",
    "start = timeit.default_timer()\n",
    "anomalies, queries = anomaly_lookup.run(q_timestamp, q_entity, list(selected_tables.value))\n",
    "display(anomalies)\n",
    "\n",
    "if queries is not None:\n",
    "    url = WidgetViewHelper.construct_url_for_log_analytics_logs(tenant_domain, subscription_id, resource_group, selected_workspace.value)\n",
    "    WidgetViewHelper.display_html(WidgetViewHelper.copy_to_clipboard(url, queries, 'Add queries to clipboard and go to Log Analytics'))\n",
    "\n",
    "print('==================')\n",
    "print('Elapsed time: ', timeit.default_timer() - start, ' seconds')"
   ]
  },
  {
   "cell_type": "code",
   "execution_count": null,
   "metadata": {},
   "outputs": [],
   "source": []
  }
 ],
 "metadata": {
  "celltoolbar": "Tags",
  "kernelspec": {
   "display_name": "Python 3.6",
   "language": "python",
   "name": "python36"
  },
  "language_info": {
    "codemirror_mode": {
      "name": "ipython",
      "version": 3
    },
    "file_extension": ".py",
    "mimetype": "text/x-python",
    "name": "python",
    "nbconvert_exporter": "python",
    "pygments_lexer": "ipython3",
    "version": "3.6.6"
  }
 },
 "nbformat": 4,
 "nbformat_minor": 1
}
