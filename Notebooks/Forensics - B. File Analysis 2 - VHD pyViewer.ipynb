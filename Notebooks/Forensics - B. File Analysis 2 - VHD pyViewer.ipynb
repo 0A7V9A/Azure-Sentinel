{
  "cells": [
    {
      "metadata": {
        "trusted": true
      },
      "cell_type": "markdown",
      "source": "# Forensics - B. File Analysis 2 - VHD pyViewer\n\n__Notebook Version:__ 1.0<br>\n__Python Version:__ Python 3.6 (including Python 3.6 - AzureML)<br>\n__Required Packages:__<br>\n__OS Supported:__<br>\n    -  Linux\n__Platforms Supported:__<br>\n       Azure Notebooks DSVM, with Forensics Tools installed, please check out [Get Started](Forensics - A. Get Started 1 - Provision DSVM with Azure Forensics Tools.ipynb).<br>\n    \n__Data Source Required:__<br>\n    -  no\n    \n### Description\nThe notebook provides sample code to analyze file system on newly created DSVM using Azure Forensics libraries.\n\n<font color=red>When you switch between Azure Notebooks Free Compute and Data Science Virtual Machine (DSVM), you may need to select Python version: please select Python 3.6 for Free Compute, and Python 3.6 - AzureML for DSVM.</font>"
    },
    {
      "metadata": {},
      "cell_type": "markdown",
      "source": "## Table of Contents\n\n1. Initialization\n2. VHD pyViewer\n3. File Management"
    },
    {
      "metadata": {},
      "cell_type": "markdown",
      "source": "## 1. Initialization"
    },
    {
      "metadata": {
        "trusted": true
      },
      "cell_type": "code",
      "source": "#Input SAS URL and Select Partition\nsas_url = input('SAS Url:')\n\n# Counting visitors\nfrom SentinelLog import *\nenv_dir = %env\nlogger = LogHelper(False, env_dir, {'tenant_domain': 'Default'}, 'VHDpyViewer')\nlogger.count_page_view()",
      "execution_count": null,
      "outputs": []
    },
    {
      "metadata": {},
      "cell_type": "markdown",
      "source": "## 2. VHD pyViewer"
    },
    {
      "metadata": {
        "trusted": true
      },
      "cell_type": "code",
      "source": "from SentinelWidgets import *\nfrom SentinelVhd import *\n# select an partition to continue\nmft_helper = MFTHelper(None, sas_url)\npartitions = mft_helper.get_partitions()\nselected_partition = widgets.Dropdown(options=partitions, value=partitions[0],description='Partition:')\ndisplay(selected_partition)",
      "execution_count": null,
      "outputs": []
    },
    {
      "metadata": {},
      "cell_type": "markdown",
      "source": "2. Navigate through File System"
    },
    {
      "metadata": {
        "trusted": true
      },
      "cell_type": "code",
      "source": "%%javascript\nIPython.OutputArea.prototype._should_scroll = function(lines) {\n    // You may execute this script to avoid rendering the results in a frame\n    return false;\n}",
      "execution_count": null,
      "outputs": []
    },
    {
      "metadata": {
        "trusted": true,
        "scrolled": false
      },
      "cell_type": "code",
      "source": "# Display First level directories\n# It is allowed to randomly access to Directory / File, just replace the first parameter (None) with selected SegmentLow, such as (0xd33)\nmft_helper = MFTHelper(None, sas_url, next(iter(selected_partition.value.keys())))\nMFTController(mft_helper).display()",
      "execution_count": null,
      "outputs": []
    },
    {
      "metadata": {},
      "cell_type": "markdown",
      "source": "## 3. File Management"
    },
    {
      "metadata": {
        "trusted": true
      },
      "cell_type": "code",
      "source": "# Select multiple files\nfile_segment_numbers = WidgetViewHelper.select_multiple_items('Paste selected file:', 'Files')",
      "execution_count": null,
      "outputs": []
    },
    {
      "metadata": {
        "trusted": true
      },
      "cell_type": "code",
      "source": "# Download multiple files\nfile_path_list = FileHelper.download_files(file_segment_numbers.value.splitlines(), mft_helper.ntfs)",
      "execution_count": null,
      "outputs": []
    },
    {
      "metadata": {
        "trusted": true,
        "scrolled": true
      },
      "cell_type": "code",
      "source": "# Display a file\nFileHelper.display_file(file_path_list[0])",
      "execution_count": null,
      "outputs": []
    },
    {
      "metadata": {
        "trusted": true
      },
      "cell_type": "markdown",
      "source": "## Feedback"
    },
    {
      "metadata": {
        "trusted": true
      },
      "cell_type": "code",
      "source": "#1. Do you think this notebook helpful?\nlogger.ask_is_helpful()",
      "execution_count": null,
      "outputs": []
    },
    {
      "metadata": {
        "trusted": true
      },
      "cell_type": "code",
      "source": "#2. Appreciate your feedback\nlogger.ask_feedback()",
      "execution_count": null,
      "outputs": []
    },
    {
      "metadata": {
        "trusted": true
      },
      "cell_type": "code",
      "source": "",
      "execution_count": null,
      "outputs": []
    }
  ],
  "metadata": {
    "kernelspec": {
      "name": "python3-azureml",
      "display_name": "Python 3.6 - AzureML",
      "language": "python"
    },
    "language_info": {
      "file_extension": ".py",
      "codemirror_mode": {
        "name": "ipython",
        "version": 3
      },
      "nbconvert_exporter": "python",
      "mimetype": "text/x-python",
      "name": "python",
      "pygments_lexer": "ipython3",
      "version": "3.6.8"
    },
    "celltoolbar": "Tags"
  },
  "nbformat": 4,
  "nbformat_minor": 1
}