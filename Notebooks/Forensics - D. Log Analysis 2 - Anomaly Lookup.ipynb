{
  "cells": [
    {
      "metadata": {},
      "cell_type": "markdown",
      "source": "# Forensics - D. Log Analysis 2 - Anomaly Lookup\n\n__Notebook Version:__ 1.0<br>\n__Python Version:__ Python 3.6 (including Python 3.6 - AzureML)<br>\n__Required Packages:__ azure 4.0.0, azure-cli-profile 2.1.4<br>\n__OS Supported:__<br>\n    -  Linux\n__Platforms Supported:__<br>\n     Azure Notebooks DSVM, with Forensics Tools installed, please check out [Get Started](Forensics - A. Get Started 1 - Provision DSVM with Azure Forensics Tools.ipynb).<br>\n     \n__Data Source Required:__<br>\n    -  no\n    \n### Description\nThe notebook provides you basic knowledge to use Log Analytics to lookup anomalies.\n\n<font color=red>When you switch between Azure Notebooks Free Compute and Data Science Virtual Machine (DSVM), you may need to select Python version: please select Python 3.6 for Free Compute, and Python 3.6 - AzureML for DSVM.</font>"
    },
    {
      "metadata": {},
      "cell_type": "markdown",
      "source": "## Table of Contents\n\n1. Initialize Azure Resource Management Clients\n2. Create Snapshot and Generate SAS URL"
    },
    {
      "metadata": {},
      "cell_type": "markdown",
      "source": "## 1. Initialize Azure Resource Management Clients"
    },
    {
      "metadata": {
        "trusted": true
      },
      "cell_type": "code",
      "source": "# User Input and Save to Environmental store\nfrom azure.mgmt.loganalytics import LogAnalyticsManagementClient\nimport SentinelAzure\nfrom SentinelWidgets import *\nfrom SentinelAnomalyLookup import *\n\nfrom pandas.io.json import json_normalize\nfrom azure.loganalytics import LogAnalyticsDataClient\nfrom azure.loganalytics.models import QueryBody\nimport sys\nimport timeit\nimport datetime as dt\nimport pandas as pd\nimport copy\nfrom IPython.display import HTML\n\n# User Input and Save to Environmental store\n# Set to True if you want to reset the environmental values\nimport os\nfrom SentinelWidgets import *\nreset_environment_valiables = False\nenv_dir = %env\nenv_list = ['tenant_domain', 'subscription_id', 'resource_group']\nenvs =  {env_list[0]:'', env_list[1]:'', env_list[2]:''}\nenvs = WidgetViewHelper.set_env(reset_environment_valiables, env_dir, envs)\ntenant_domain = envs[env_list[0]]\nsubscription_id = envs[env_list[1]]\nresource_group = envs[env_list[2]]\n# Counting visitors\nfrom SentinelLog import *\nlogger = LogHelper(reset_environment_valiables, env_dir, envs, 'AnomalyLookup')\nlogger.count_page_view()",
      "execution_count": null,
      "outputs": []
    },
    {
      "metadata": {
        "trusted": true
      },
      "cell_type": "code",
      "source": "# Authentication to Log Analytics\nfrom azure.common.client_factory import get_client_from_cli_profile\nfrom azure.common.credentials import get_azure_cli_credentials\n# please enter your tenant domain below, for Microsoft, using: microsoft.onmicrosoft.com\n!az login --tenant $tenant_domain\nla_client = get_client_from_cli_profile(LogAnalyticsManagementClient, subscription_id = subscription_id)\nla = SentinelAzure.azure_loganalytics_helper.LogAnalyticsHelper(la_client)\ncreds, _ = get_azure_cli_credentials(resource=\"https://api.loganalytics.io\")\nla_data_client = LogAnalyticsDataClient(creds)",
      "execution_count": null,
      "outputs": []
    },
    {
      "metadata": {},
      "cell_type": "markdown",
      "source": "## 2. Create Snapshot and Generate SAS URL"
    },
    {
      "metadata": {
        "trusted": true
      },
      "cell_type": "code",
      "source": "# Select a workspace\nselected_workspace = WidgetViewHelper.select_log_analytics_workspace(la)\ndisplay(selected_workspace)",
      "execution_count": null,
      "outputs": []
    },
    {
      "metadata": {
        "trusted": true
      },
      "cell_type": "code",
      "source": "workspace_id = la.get_workspace_id(selected_workspace.value)\n#DateTime format: 2019-05-15T07:05:20.000\nqTimestamp = input('DateTime: ')\n#Entity format: computer\nqEntity = input('Entity for search: ')",
      "execution_count": null,
      "outputs": []
    },
    {
      "metadata": {
        "trusted": true
      },
      "cell_type": "code",
      "source": "anomaly_lookup = AnomalyLookup(workspace_id, la_data_client)\nselected_tables = WidgetViewHelper.select_multiple_tables(anomaly_lookup)\ndisplay(selected_tables)",
      "execution_count": null,
      "outputs": []
    },
    {
      "metadata": {
        "trusted": true
      },
      "cell_type": "code",
      "source": "# This action may take a few minutes or more, please be patient.\nstart = timeit.default_timer()\nanomalies, queries = anomaly_lookup.run(qTimestamp, qEntity, list(selected_tables.value))\ndisplay(anomalies)\n\nif queries is not None:\n    url = WidgetViewHelper.construct_url_for_log_analytics_logs(tenant_domain, subscription_id, resource_group, selected_workspace.value)\n    WidgetViewHelper.display_html(WidgetViewHelper.copy_to_clipboard(url, queries, 'Add queries to clipboard and go to Log Analytics'))\n\nprint('==================')\nprint('Elapsed time: ', timeit.default_timer() - start, ' seconds')",
      "execution_count": null,
      "outputs": []
    },
    {
      "metadata": {
        "trusted": true
      },
      "cell_type": "markdown",
      "source": "## Feedback"
    },
    {
      "metadata": {
        "trusted": true
      },
      "cell_type": "code",
      "source": "#1. Do you think this notebook helpful?\nlogger.ask_is_helpful()",
      "execution_count": null,
      "outputs": []
    },
    {
      "metadata": {
        "trusted": true
      },
      "cell_type": "code",
      "source": "#2. Is this entity compromised?\nanomaly_lookup.ask_is_entity_compromised()",
      "execution_count": null,
      "outputs": []
    },
    {
      "metadata": {
        "trusted": true
      },
      "cell_type": "code",
      "source": "#3. Appreciate your feedback\nlogger.ask_feedback()",
      "execution_count": null,
      "outputs": []
    },
    {
      "metadata": {
        "trusted": true
      },
      "cell_type": "code",
      "source": "",
      "execution_count": null,
      "outputs": []
    }
  ],
  "metadata": {
    "kernelspec": {
      "name": "python3-azureml",
      "display_name": "Python 3.6 - AzureML",
      "language": "python"
    },
    "language_info": {
      "file_extension": ".py",
      "codemirror_mode": {
        "name": "ipython",
        "version": 3
      },
      "nbconvert_exporter": "python",
      "mimetype": "text/x-python",
      "name": "python",
      "pygments_lexer": "ipython3",
      "version": "3.6.8"
    },
    "celltoolbar": "Tags"
  },
  "nbformat": 4,
  "nbformat_minor": 1
}