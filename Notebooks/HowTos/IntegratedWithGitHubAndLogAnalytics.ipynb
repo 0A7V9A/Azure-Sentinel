{
  "cells": [
    {
      "metadata": {
        "collapsed": true
      },
      "cell_type": "markdown",
      "source": "# How To: Integarted with GitHub and Azure Log Analytics\n\n__Notebook Version:__ 1.0<br>\n__Python Version:__ Python 3.6 (including Python 3.6 - AzureML)<br>\n__Platforms Supported:__<br>\n    -  Azure Notebooks Free Compute\n    -  Azure Notebooks DSVM\n__Data Source Required:__<br>\n    -  no\n    \n### Description\nThe sample notebook retrieves Kusto query (KQL) definition file from GitHub, parses the JSON object.  Then it copies query to clipboard and opens Log Analytics window.\n\n<font color=red>When you switch between Azure Notebooks Free Compute and Data Science Virtual Machine (DSVM), you may need to select Python version: please select Python 3.6 for Free Compute, and Python 3.6 - AzureML for DSVM.</font>"
    },
    {
      "metadata": {},
      "cell_type": "markdown",
      "source": "## Table of Contents\n\n1. Retrieve Log Analytics information \n2. Retrieve KQL from GitHub and go to Log Analytics"
    },
    {
      "metadata": {},
      "cell_type": "markdown",
      "source": "## 1. Retrieve Log Analytics Information"
    },
    {
      "metadata": {
        "trusted": true
      },
      "cell_type": "code",
      "source": "import json\ndef read_config_values(filePath):\n    with open(filePath) as json_file:\n        if json_file:\n            json_config = json.load(json_file)\n            return (json_config[\"tenant_id\"],\n                    json_config[\"subscription_id\"],\n                    json_config[\"resource_group\"],\n                    json_config[\"workspace_id\"],\n                    json_config[\"workspace_name\"])\n    return None\n\npath = %env PATH\ndsvm = False\nif '/dsvm/' in path:\n    dsvm = True\n    \nif dsvm == False:\n    # Run this if you are using Free Compute\n    workspace_id = read_config_values(\"../config.json\")[3]\n    subscription_id = read_config_values(\"../config.json\")[1]\n    resource_group = read_config_values(\"../config.json\")[2]\n\n    ######################################################################\n    workspace_name = read_config_values(\"../config.json\")[4]\n    print(\"Your Log Analytic Workspace: \" + workspace_name)\n    ######################################################################\nelse:\n    # Run this if you are using DSVM.  You need to copy the values from config.json, if the file has no value, then you need to go to Log Analytics Portal to get the information.\n    tenant_id = input('tenant_id:')\n    subscription_id = input('subscription_id:')\n    resource_group = input('resource_group:')\n    workspace_id = input('workspace_id:')\n    workspace_name = input('workspace_name:')",
      "execution_count": null,
      "outputs": []
    },
    {
      "metadata": {},
      "cell_type": "markdown",
      "source": "## 2. Retrieve KQL from GitHub and go to Log Analytics"
    },
    {
      "metadata": {
        "trusted": true
      },
      "cell_type": "code",
      "source": "# Load queries from GitHub\ndef get_query_from_github(query_name):\n    import requests\n    url = \"https://raw.githubusercontent.com/Azure/Orion/master/Hunting%20Queries/Deployed/{}.json\".format(query_name)\n\n    response = requests.get(url)\n    response.encoding = response.apparent_encoding\n    resJson = json.loads(response.text)\n    if resJson != None:\n        try:\n            print(resJson['query'])\n            return resJson['query']\n        except Exception as e:\n            print(e)\n            \n# Copy the query to Clipboard\ndef copy_query_to_clipboard(query_text):\n    url = 'https://ms.portal.azure.com/?feature.showassettypes=Microsoft_Azure_Security_Insights_SecurityInsightsDashboard#blade/Microsoft_Azure_Security_Insights/MainMenuBlade/7/subscriptionId/{}/resourceGroup/{}/workspaceName/{}'.format(subscription_id, resource_group, workspace_name)\n    html_str = (\n        \"\"\"<!DOCTYPE html>\n        <html><body>\n        <input  id=\"asi_demo_query\" type=\"text\" readonly style=\"font-weight: bold; border: none; width:1px;\" size = '\"\"\"\n        + str(len(query_text))\n        + \"\"\"' value='\"\"\"\n        + query_text\n        + \"\"\"'>\n        <a target=\"_new\" href=\"javascript:void(0);\" onclick=\"asi_demo_copy()\">Copy query to clipboard and go to Log Analytics</a>\n        <script>\n        var asi_demo_win = null\n        function asi_demo_copy() {\n            var copyText = document.getElementById(\"asi_demo_query\");\n            copyText.select();\n            document.execCommand(\"copy\");\n\n            var w = screen.width - 300;\n            var h = screen.height - 300;\n            params = 'width='+w+',height='+h\n            asi_demo_win = window.open('\"\"\"\n                    + url\n                    + \"\"\"', 'asi_demo_win', params);\n        }\n\n        </script>\n        </body></html>\"\"\"\n    )\n\n    return html_str    ",
      "execution_count": null,
      "outputs": []
    },
    {
      "metadata": {
        "trusted": true
      },
      "cell_type": "code",
      "source": "from IPython.display import HTML\n# file name: Create Office Account.json\nHTML(copy_query_to_clipboard(get_query_from_github('Create Office Account')))",
      "execution_count": null,
      "outputs": []
    },
    {
      "metadata": {
        "trusted": true
      },
      "cell_type": "code",
      "source": "",
      "execution_count": null,
      "outputs": []
    }
  ],
  "metadata": {
    "kernelspec": {
      "name": "python3-azureml",
      "display_name": "Python 3.6 - AzureML",
      "language": "python"
    },
    "language_info": {
      "pygments_lexer": "ipython3",
      "name": "python",
      "file_extension": ".py",
      "codemirror_mode": {
        "name": "ipython",
        "version": 3
      },
      "nbconvert_exporter": "python",
      "mimetype": "text/x-python",
      "version": "3.6.7"
    }
  },
  "nbformat": 4,
  "nbformat_minor": 2
}