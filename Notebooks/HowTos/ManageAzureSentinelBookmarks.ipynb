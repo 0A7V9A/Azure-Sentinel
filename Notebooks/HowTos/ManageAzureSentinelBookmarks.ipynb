{
  "cells": [
    {
      "metadata": {},
      "cell_type": "markdown",
      "source": "# How To: Manage Azure Sentinel Bookmarks\n\n__Notebook Version:__ 1.0<br>\n__Python Version:__ Python 3.6 (including Python 3.6 - AzureML), Plotly 3.5 <br>\n__Platforms Supported:__<br>\n    -  Azure Notebooks Free Compute\n    -  Azure Notebooks DSVM\n__Data Source Required:__<br>\n    -  no\n    \n### Description\nThe sample notebook get bookmarks from Azure Sentinel\n\n<font color=red>When you switch between Azure Notebooks Free Compute and Data Science Virtual Machine (DSVM), you may need to select Python version: please select Python 3.6 for Free Compute, and Python 3.6 - AzureML for DSVM.</font>"
    },
    {
      "metadata": {},
      "cell_type": "markdown",
      "source": "## Table of Contents\n\n1. Retrieve Log Analytics information1. \n2. Bookmark functions \n3. Create bookmark and get bookmarks\n4. Go to Azure Log Analytics\n5. Data Analysis - Timeline Chart"
    },
    {
      "metadata": {},
      "cell_type": "markdown",
      "source": "## 1. Retrieve Log Analytics Information"
    },
    {
      "metadata": {
        "trusted": true
      },
      "cell_type": "code",
      "source": "import json\ndef read_config_values(filePath):\n    with open(filePath) as json_file:\n        if json_file:\n            json_config = json.load(json_file)\n            return (json_config[\"tenant_id\"],\n                    json_config[\"subscription_id\"],\n                    json_config[\"resource_group\"],\n                    json_config[\"workspace_id\"],\n                    json_config[\"workspace_name\"])\n    return None\n\npath = %env PATH\ndsvm = False\nif '/dsvm/' in path:\n    dsvm = True\n    \nif dsvm == False:\n    # Run this if you are using Free Compute\n    # Run this if you are using Free Compute\n    workspace_id = read_config_values(\"../config.json\")[3]\n    subscription_id = read_config_values(\"../config.json\")[1]\n    resource_group = read_config_values(\"../config.json\")[2]\n\n    ######################################################################\n    workspace_name = read_config_values(\"../config.json\")[4]\n    print(\"Your Log Analytic Workspace: \" + workspace_name)\n    ######################################################################\nelse:\n    # Run this if you are using DSVM.  You need to copy the values from config.json, if the file has no value, then you need to go to Log Analytics Portal to get the information.\n    tenant_id = input('tenant_id:')\n    subscription_id = input('subscription_id:')\n    resource_group = input('resource_group:')\n    workspace_id = input('workspace_id:')\n    workspace_name = input('workspace_name:')",
      "execution_count": null,
      "outputs": []
    },
    {
      "metadata": {},
      "cell_type": "markdown",
      "source": "## 2. Bookmark functions"
    },
    {
      "metadata": {
        "trusted": true
      },
      "cell_type": "code",
      "source": "# head\nimport json\nimport requests\nimport pandas as pd\nfrom pandas.io.json import json_normalize\n\n# calling test site\ntest_subscription_id = input('test subscription id:')\ntest_resource_group = input('test resource_group:')\ntest_workspace_name = input('test workspace_name:')",
      "execution_count": null,
      "outputs": []
    },
    {
      "metadata": {
        "trusted": true
      },
      "cell_type": "code",
      "source": "# functions, this is using testing environment\ndef generate_guid():\n    import uuid\n    return str(uuid.uuid4())\n\ndef construct_url(bookmark_id):\n    base_url = 'https://resourceprovider.westus2.cloudapp.azure.com/subscriptions/{}/resourceGroups/{}/providers/Microsoft.OperationalInsights/workspaces/{}/providers/Microsoft.SecurityInsights/bookmarks{}?api-version=1.0'\n    return base_url.format(test_subscription_id, test_resource_group, test_workspace_name, '/' + bookmark_id) if bookmark_id != None else base_url.format(test_subscription_id, test_resource_group, test_workspace_name, '')\n\ndef create_bookmark():\n    import datetime\n    # Sample bookmark data\n    newbookmark = {\n      \"properties\": {\n        \"displayName\": \"Example bookmark\",\n        \"notes\": datetime.datetime.now().isoformat(),\n        \"labels\": [\"Azure Sentinel Notebooks\"],\n        \"query\": \"SecurityEvent | take 5 | project Account, Computer\",\n        \"queryResult\": \"'Account': 'WORKGROUP\\vm3$', 'Computer': 'vm3'\"\n      }\n    }\n    \n    url = construct_url(generate_guid())\n    response = None\n    headers = {\"Content-Type\" : \"application/json\"}\n    try:\n        response = requests.put(url, data=json.dumps(newbookmark), headers=headers)\n\n        if response.status_code != 200:\n            print(response.status_code)\n            print(response.text)\n            raise Exception('Recieved non 200 response while sending response to CFN.')\n        return response\n    except requests.exceptions.RequestException as e:\n        if response != None:\n            print(response.text)\n        print(e)\n        raise\n        \ndef get_bookmarks():\n    url = construct_url(None)\n    response = requests.get(url)\n    response.encoding = response.apparent_encoding\n    resJson = json.loads(response.text)\n    if resJson != None:\n        try:\n            return json_normalize(resJson['value'])\n        except Exception as e:\n            print(e)",
      "execution_count": null,
      "outputs": []
    },
    {
      "metadata": {},
      "cell_type": "markdown",
      "source": "## 3. Create bookmark and get bookmarks"
    },
    {
      "metadata": {
        "trusted": true
      },
      "cell_type": "code",
      "source": "# Create a new bookmark\nres = create_bookmark()\nprint(res)",
      "execution_count": null,
      "outputs": []
    },
    {
      "metadata": {
        "trusted": true
      },
      "cell_type": "code",
      "source": "# get all bookamrks and filter by displayName\norigin_df = get_bookmarks()\ndf = origin_df[origin_df['properties.displayName'] == 'Example bookmark'][['properties.created', 'properties.notes', 'properties.displayName', 'properties.labels', 'properties.query', 'properties.queryResult']]\ndf",
      "execution_count": null,
      "outputs": []
    },
    {
      "metadata": {
        "trusted": true
      },
      "cell_type": "markdown",
      "source": "## 4. Go to Azure Log Analytics"
    },
    {
      "metadata": {
        "trusted": true
      },
      "cell_type": "code",
      "source": "# Utils functions\ndef copy_query_to_clipboard(query_text):\n    import ipywidgets as widgets\n    from IPython.display import display\n    from IPython.display import HTML\n\n    url = 'https://ms.portal.azure.com/?feature.showassettypes=Microsoft_Azure_Security_Insights_SecurityInsightsDashboard#blade/Microsoft_Azure_Security_Insights/MainMenuBlade/7/subscriptionId/{}/resourceGroup/{}/workspaceName/{}'.format(subscription_id, resource_group, workspace_name)\n    html_str = (\n        \"\"\"<!DOCTYPE html>\n        <html><body>\n\n        <input  id=\"asi_demo_query\" type=\"text\" readonly style=\"font-weight: bold; border: none; width:1px;\" size = '\"\"\"\n        + str(len(query_text))\n        + \"\"\"' value='\"\"\"\n        + query_text\n        + \"\"\"'>\n\n        <a target=\"_new\" href=\"javascript:void(0);\" onclick=\"asi_demo_copy()\">Go to Log Analytics</a>\n    \n        <script>\n        var asi_demo_win = null\n        function asi_demo_copy() {\n            var copyText = document.getElementById(\"asi_demo_query\");\n            copyText.select();\n            document.execCommand(\"copy\");\n\n            var w = screen.width - 300;\n            var h = screen.height - 300;\n            params = 'width='+w+',height='+h\n            asi_demo_win = window.open('\"\"\"\n                    + url\n                    + \"\"\"', 'asi_demo_win', params);\n        }\n\n        </script>\n        </body></html>\"\"\"\n    )\n\n    return html_str    \n\ndef make_clickable(val):\n    # target _blank to open new window\n    return '<a target=\"_new\" href=\"{}\"></a>'.format(val)",
      "execution_count": null,
      "outputs": []
    },
    {
      "metadata": {
        "trusted": true
      },
      "cell_type": "code",
      "source": "# appending link column to the dataframe\ndf = df.assign(GoToLogAnalytics=df['properties.query'].apply(lambda x: copy_query_to_clipboard(x)))\ndf.style.format({'': make_clickable})",
      "execution_count": null,
      "outputs": []
    },
    {
      "metadata": {
        "trusted": true
      },
      "cell_type": "markdown",
      "source": "## 5. Data Analysis - Timeline Chart"
    },
    {
      "metadata": {
        "trusted": true
      },
      "cell_type": "code",
      "source": "origin_df['Start'] = origin_df.groupby('properties.displayName')['properties.created'].transform(min)\norigin_df['Finish'] = origin_df.groupby('properties.displayName')['properties.created'].transform(max)\n\nplot_df = origin_df[['properties.displayName', 'Start', 'Finish']].copy().rename(columns = {'properties.displayName' : 'Task'}).drop_duplicates('Task')\nplot_df = plot_df.reset_index().drop('index', 1)\nplot_df",
      "execution_count": null,
      "outputs": []
    },
    {
      "metadata": {
        "trusted": true
      },
      "cell_type": "code",
      "source": "import plotly\nimport plotly.plotly as pplotly\nimport plotly.figure_factory as factory\n\n# input your account info for Plotly, https://plot.ly\nyour_plotly_username = input('plotly username:')\nyour_api_key = input('plotly API key:')\nplotly.tools.set_credentials_file(username=your_plotly_username, api_key=your_api_key)",
      "execution_count": null,
      "outputs": []
    },
    {
      "metadata": {
        "trusted": true
      },
      "cell_type": "code",
      "source": "chart = factory.create_gantt(plot_df)\npplotly.iplot(chart, filename='Bookmark Time Line', title='Bookmark Time Line', world_readable=True)",
      "execution_count": null,
      "outputs": []
    },
    {
      "metadata": {
        "trusted": true
      },
      "cell_type": "code",
      "source": "",
      "execution_count": null,
      "outputs": []
    }
  ],
  "metadata": {
    "kernelspec": {
      "name": "python3-azureml",
      "display_name": "Python 3.6 - AzureML",
      "language": "python"
    },
    "celltoolbar": "Tags",
    "language_info": {
      "pygments_lexer": "ipython3",
      "name": "python",
      "file_extension": ".py",
      "codemirror_mode": {
        "name": "ipython",
        "version": 3
      },
      "nbconvert_exporter": "python",
      "mimetype": "text/x-python",
      "version": "3.6.7"
    }
  },
  "nbformat": 4,
  "nbformat_minor": 1
}