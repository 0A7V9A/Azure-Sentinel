{
 "cells": [
  {
   "cell_type": "markdown",
   "metadata": {
    "collapsed": true
   },
   "source": [
    "# Get Started\n",
    "\n",
    "__Notebook Version:__ 1.0<br>\n",
    "__Python Version:__ Python 3.6 (including Python 3.6 - AzureML)<br>\n",
    "__Kqlmagic:__ 0.1.90<br>\n",
    "__Platforms Supported:__<br>\n",
    "    -  Azure Notebooks Free Compute\n",
    "    -  Azure Notebooks DSVM\n",
    "__Data Source Required:__<br>\n",
    "    -  Log Analytics - SecurityEvent\n",
    "    \n",
    "### Description\n",
    "The notebook provides you basic knowledge to use Azure Sentinel Notebooks.\n",
    "\n",
    "<font color=red>When you switch between Azure Notebooks Free Compute and Data Science Virtual Machine (DSVM), you may need to select Python version: please select Python 3.6 for Free Compute, and Python 3.6 - AzureML for DSVM.</font>"
   ]
  },
  {
   "cell_type": "markdown",
   "metadata": {},
   "source": [
    "## Table of Contents\n",
    "\n",
    "1. Retrieve Log Analytics information \n",
    "2. Install Kqlmagic\n",
    "3. Log into Log Analytics\n",
    "4. Get a list of available data tables from Log Analytics\n",
    "5. Run a simple Kusto query"
   ]
  },
  {
   "cell_type": "markdown",
   "metadata": {},
   "source": [
    "## 1. Retrieve Log Analytics Information"
   ]
  },
  {
   "cell_type": "code",
   "execution_count": null,
   "metadata": {},
   "outputs": [],
   "source": [
    "path = %env PATH\n",
    "dsvm = False\n",
    "if '/dsvm/' in path:\n",
    "    dsvm = True\n",
    "    \n",
    "if dsvm == False:\n",
    "    # Run this if you are using Free Compute\n",
    "    from utils import config_reader as mod\n",
    "    workspace_id = mod.config_reader.read_config_values(\"config.json\")[3]\n",
    "    tenant_id = mod.config_reader.read_config_values(\"config.json\")[0]\n",
    "\n",
    "    ######################################################################\n",
    "    your_workspace_name = mod.config_reader.read_config_values(\"config.json\")[4]\n",
    "    print(\"Your Log Analytic Workspace: \" + your_workspace_name)\n",
    "    ######################################################################\n",
    "else:\n",
    "    # Run this if you are using DSVM.  You need to copy the values from config.json, if the file has no value, then you need to go to Log Analytics Portal to get the information.\n",
    "    tenant_id = input('tenant_id:')\n",
    "    subscription_id = input('subscription_id:')\n",
    "    resource_group = input('resource_group:')\n",
    "    workspace_id = input('workspace_id:')\n",
    "    workspace_name = input('workspace_name:')"
   ]
  },
  {
   "cell_type": "markdown",
   "metadata": {},
   "source": [
    "## 2. Install Required Packages\n",
    "These are the two core packages required by most Azure Sentinel Notebooks. You need to install these only once in each Azure Notebooks project (or other Python environment) but they are both updated regularly so it is worth running<br>\n",
    "```pip install {pkg} --upgrade```<br>\n",
    "every few weeks to get the latest features and fixes."
   ]
  },
  {
   "cell_type": "code",
   "execution_count": null,
   "metadata": {},
   "outputs": [],
   "source": [
    "import sys\n",
    "MIN_REQ_PYTHON = (3,6)\n",
    "if sys.version_info < MIN_REQ_PYTHON:\n",
    "    print('Check the Kernel->Change Kernel menu and ensure that Python 3.6')\n",
    "    print('or later is selected as the active kernel.')\n",
    "    sys.exit(\"Python %s.%s or later is required.\\n\" % MIN_REQ_PYTHON)\n",
    "    \n",
    "# You may needs these - should only need to uncomment and run once\n",
    "\n",
    "!pip install Kqlmagic --no-cache-dir --upgrade --user"
   ]
  },
  {
   "cell_type": "markdown",
   "metadata": {},
   "source": [
    "### 2.1 Install KqlMagic \n",
    "For more information and sample notebooks go to [Kqlmagic github](https://github.com/Microsoft/jupyter-Kqlmagic)"
   ]
  },
  {
   "cell_type": "code",
   "execution_count": null,
   "metadata": {
    "scrolled": true
   },
   "outputs": [],
   "source": [
    "# run only once unless upgrade\n",
    "!pip install Kqlmagic --upgrade"
   ]
  },
  {
   "cell_type": "code",
   "execution_count": null,
   "metadata": {
    "scrolled": false
   },
   "outputs": [],
   "source": [
    "# Make sure you have 0.1.90 or above, if not, run Kqlmagic installation again\n",
    "%reload_ext Kqlmagic"
   ]
  },
  {
   "cell_type": "markdown",
   "metadata": {},
   "source": [
    "If you need any help for kql magic     --> %kql --help \"help\" -popup_window\n",
    "If you need any help for Log Analytics --> %kql --help \"LogAnalytics\""
   ]
  },
  {
   "cell_type": "markdown",
   "metadata": {},
   "source": [
    "### 2.2 Install Sentinel Security Tools\n",
    "This is open source Python tools for working in Notebooks. It includes modules and classes for querying and analyzing data in the context of a security investigation or security hunting."
   ]
  },
  {
   "cell_type": "code",
   "execution_count": 1,
   "metadata": {},
   "outputs": [
    {
     "name": "stdout",
     "output_type": "stream",
     "text": [
      "Collecting git+https://github.com/ianhelle/msticpy\n",
      "  Cloning https://github.com/ianhelle/msticpy to c:\\users\\ianhelle\\appdata\\local\\temp\\pip-req-build-s0v6z6k9\n",
      "Requirement not upgraded as not directly required: matplotlib>=3.0.2 in c:\\users\\ianhelle\\appdata\\local\\continuum\\anaconda3\\lib\\site-packages (from msticpy==0.0.53) (3.0.2)\n",
      "Collecting bokeh>=1.0.2 (from msticpy==0.0.53)\n",
      "  Downloading https://files.pythonhosted.org/packages/aa/5b/56dba3ab8a401b4818b16765b913225225185acea31bf5c454ab94580675/bokeh-1.0.4.tar.gz (16.3MB)\n",
      "Requirement not upgraded as not directly required: setuptools>=40.6.3 in c:\\users\\ianhelle\\appdata\\local\\continuum\\anaconda3\\lib\\site-packages (from msticpy==0.0.53) (40.6.3)\n",
      "Requirement not upgraded as not directly required: attrs>=18.2.0 in c:\\users\\ianhelle\\appdata\\local\\continuum\\anaconda3\\lib\\site-packages (from msticpy==0.0.53) (18.2.0)\n",
      "Requirement not upgraded as not directly required: pandas>=0.22.0 in c:\\users\\ianhelle\\appdata\\local\\continuum\\anaconda3\\lib\\site-packages (from msticpy==0.0.53) (0.23.4)\n",
      "Requirement not upgraded as not directly required: requests>=2.21.0 in c:\\users\\ianhelle\\appdata\\local\\continuum\\anaconda3\\lib\\site-packages (from msticpy==0.0.53) (2.21.0)\n",
      "Collecting networkx>=2.2 (from msticpy==0.0.53)\n",
      "  Downloading https://files.pythonhosted.org/packages/f3/f4/7e20ef40b118478191cec0b58c3192f822cace858c19505c7670961b76b2/networkx-2.2.zip (1.7MB)\n",
      "Requirement not upgraded as not directly required: numpy>=1.15.4 in c:\\users\\ianhelle\\appdata\\local\\continuum\\anaconda3\\lib\\site-packages (from msticpy==0.0.53) (1.15.4)\n",
      "Collecting urllib3>=1.24.1 (from msticpy==0.0.53)\n",
      "  Downloading https://files.pythonhosted.org/packages/62/00/ee1d7de624db8ba7090d1226aebefab96a2c71cd5cfa7629d6ad3f61b79e/urllib3-1.24.1-py2.py3-none-any.whl (118kB)\n",
      "Collecting ipywidgets>=7.4.2 (from msticpy==0.0.53)\n",
      "  Downloading https://files.pythonhosted.org/packages/30/9a/a008c7b1183fac9e52066d80a379b3c64eab535bd9d86cdc29a0b766fd82/ipywidgets-7.4.2-py2.py3-none-any.whl (111kB)\n",
      "Requirement not upgraded as not directly required: ipython>=7.2.0 in c:\\users\\ianhelle\\appdata\\local\\continuum\\anaconda3\\lib\\site-packages (from msticpy==0.0.53) (7.2.0)\n",
      "Collecting Kqlmagic>=0.1.90 (from msticpy==0.0.53)\n",
      "  Downloading https://files.pythonhosted.org/packages/ab/59/20dceb1455c21e84bd41f922936f32d9606294e5ba22d421326a980d9605/Kqlmagic-0.1.91-py3-none-any.whl (93kB)\n",
      "Requirement not upgraded as not directly required: attr>=0.3.1 in c:\\users\\ianhelle\\appdata\\roaming\\python\\python37\\site-packages (from msticpy==0.0.53) (0.3.1)\n",
      "Requirement not upgraded as not directly required: scikit_learn>=0.20.2 in c:\\users\\ianhelle\\appdata\\roaming\\python\\python37\\site-packages (from msticpy==0.0.53) (0.20.2)\n",
      "Collecting maxminddb_geolite2>=2018.0 (from msticpy==0.0.53)\n",
      "Requirement not upgraded as not directly required: typing>=3.6.6 in c:\\users\\ianhelle\\appdata\\roaming\\python\\python37\\site-packages (from msticpy==0.0.53) (3.6.6)\n",
      "Requirement not upgraded as not directly required: cycler>=0.10 in c:\\users\\ianhelle\\appdata\\local\\continuum\\anaconda3\\lib\\site-packages (from matplotlib>=3.0.2->msticpy==0.0.53) (0.10.0)\n",
      "Requirement not upgraded as not directly required: kiwisolver>=1.0.1 in c:\\users\\ianhelle\\appdata\\local\\continuum\\anaconda3\\lib\\site-packages (from matplotlib>=3.0.2->msticpy==0.0.53) (1.0.1)\n",
      "Requirement not upgraded as not directly required: pyparsing!=2.0.4,!=2.1.2,!=2.1.6,>=2.0.1 in c:\\users\\ianhelle\\appdata\\local\\continuum\\anaconda3\\lib\\site-packages (from matplotlib>=3.0.2->msticpy==0.0.53) (2.2.0)\n",
      "Requirement not upgraded as not directly required: python-dateutil>=2.1 in c:\\users\\ianhelle\\appdata\\local\\continuum\\anaconda3\\lib\\site-packages (from matplotlib>=3.0.2->msticpy==0.0.53) (2.7.5)\n",
      "Requirement not upgraded as not directly required: six>=1.5.2 in c:\\users\\ianhelle\\appdata\\local\\continuum\\anaconda3\\lib\\site-packages (from bokeh>=1.0.2->msticpy==0.0.53) (1.11.0)\n",
      "Requirement not upgraded as not directly required: PyYAML>=3.10 in c:\\users\\ianhelle\\appdata\\local\\continuum\\anaconda3\\lib\\site-packages (from bokeh>=1.0.2->msticpy==0.0.53) (3.13)\n",
      "Requirement not upgraded as not directly required: Jinja2>=2.7 in c:\\users\\ianhelle\\appdata\\local\\continuum\\anaconda3\\lib\\site-packages (from bokeh>=1.0.2->msticpy==0.0.53) (2.10)\n",
      "Requirement not upgraded as not directly required: pillow>=4.0 in c:\\users\\ianhelle\\appdata\\local\\continuum\\anaconda3\\lib\\site-packages (from bokeh>=1.0.2->msticpy==0.0.53) (5.2.0)\n",
      "Requirement not upgraded as not directly required: packaging>=16.8 in c:\\users\\ianhelle\\appdata\\local\\continuum\\anaconda3\\lib\\site-packages (from bokeh>=1.0.2->msticpy==0.0.53) (17.1)\n",
      "Requirement not upgraded as not directly required: tornado>=4.3 in c:\\users\\ianhelle\\appdata\\local\\continuum\\anaconda3\\lib\\site-packages (from bokeh>=1.0.2->msticpy==0.0.53) (5.1)\n",
      "Requirement not upgraded as not directly required: pytz>=2011k in c:\\users\\ianhelle\\appdata\\local\\continuum\\anaconda3\\lib\\site-packages (from pandas>=0.22.0->msticpy==0.0.53) (2018.5)\n",
      "Requirement not upgraded as not directly required: chardet<3.1.0,>=3.0.2 in c:\\users\\ianhelle\\appdata\\local\\continuum\\anaconda3\\lib\\site-packages (from requests>=2.21.0->msticpy==0.0.53) (3.0.4)\n",
      "Requirement not upgraded as not directly required: idna<2.9,>=2.5 in c:\\users\\ianhelle\\appdata\\local\\continuum\\anaconda3\\lib\\site-packages (from requests>=2.21.0->msticpy==0.0.53) (2.7)\n",
      "Requirement not upgraded as not directly required: certifi>=2017.4.17 in c:\\users\\ianhelle\\appdata\\local\\continuum\\anaconda3\\lib\\site-packages (from requests>=2.21.0->msticpy==0.0.53) (2018.11.29)\n",
      "Requirement not upgraded as not directly required: decorator>=4.3.0 in c:\\users\\ianhelle\\appdata\\local\\continuum\\anaconda3\\lib\\site-packages (from networkx>=2.2->msticpy==0.0.53) (4.3.0)\n",
      "Requirement not upgraded as not directly required: ipykernel>=4.5.1 in c:\\users\\ianhelle\\appdata\\local\\continuum\\anaconda3\\lib\\site-packages (from ipywidgets>=7.4.2->msticpy==0.0.53) (4.10.0)\n",
      "Requirement not upgraded as not directly required: traitlets>=4.3.1 in c:\\users\\ianhelle\\appdata\\local\\continuum\\anaconda3\\lib\\site-packages (from ipywidgets>=7.4.2->msticpy==0.0.53) (4.3.2)\n",
      "Requirement not upgraded as not directly required: widgetsnbextension~=3.4.0 in c:\\users\\ianhelle\\appdata\\local\\continuum\\anaconda3\\lib\\site-packages (from ipywidgets>=7.4.2->msticpy==0.0.53) (3.4.1)\n",
      "Requirement not upgraded as not directly required: nbformat>=4.2.0 in c:\\users\\ianhelle\\appdata\\local\\continuum\\anaconda3\\lib\\site-packages (from ipywidgets>=7.4.2->msticpy==0.0.53) (4.4.0)\n",
      "Requirement not upgraded as not directly required: colorama; sys_platform == \"win32\" in c:\\users\\ianhelle\\appdata\\local\\continuum\\anaconda3\\lib\\site-packages (from ipython>=7.2.0->msticpy==0.0.53) (0.3.9)\n",
      "Requirement not upgraded as not directly required: jedi>=0.10 in c:\\users\\ianhelle\\appdata\\local\\continuum\\anaconda3\\lib\\site-packages (from ipython>=7.2.0->msticpy==0.0.53) (0.12.1)\n",
      "Requirement not upgraded as not directly required: pickleshare in c:\\users\\ianhelle\\appdata\\local\\continuum\\anaconda3\\lib\\site-packages (from ipython>=7.2.0->msticpy==0.0.53) (0.7.4)\n",
      "Requirement not upgraded as not directly required: pygments in c:\\users\\ianhelle\\appdata\\local\\continuum\\anaconda3\\lib\\site-packages (from ipython>=7.2.0->msticpy==0.0.53) (2.2.0)\n",
      "Requirement not upgraded as not directly required: backcall in c:\\users\\ianhelle\\appdata\\local\\continuum\\anaconda3\\lib\\site-packages (from ipython>=7.2.0->msticpy==0.0.53) (0.1.0)\n",
      "Requirement not upgraded as not directly required: prompt-toolkit<2.1.0,>=2.0.0 in c:\\users\\ianhelle\\appdata\\local\\continuum\\anaconda3\\lib\\site-packages (from ipython>=7.2.0->msticpy==0.0.53) (2.0.7)\n",
      "Requirement not upgraded as not directly required: beautifulsoup4>=4.6.3 in c:\\users\\ianhelle\\appdata\\local\\continuum\\anaconda3\\lib\\site-packages (from Kqlmagic>=0.1.90->msticpy==0.0.53) (4.6.3)\n",
      "Requirement not upgraded as not directly required: adal>=1.2.0 in c:\\users\\ianhelle\\appdata\\local\\continuum\\anaconda3\\lib\\site-packages (from Kqlmagic>=0.1.90->msticpy==0.0.53) (1.2.0)\n",
      "Requirement not upgraded as not directly required: seaborn>=0.9.0 in c:\\users\\ianhelle\\appdata\\local\\continuum\\anaconda3\\lib\\site-packages (from Kqlmagic>=0.1.90->msticpy==0.0.53) (0.9.0)\n",
      "Requirement not upgraded as not directly required: psutil>=5.4.7 in c:\\users\\ianhelle\\appdata\\local\\continuum\\anaconda3\\lib\\site-packages (from Kqlmagic>=0.1.90->msticpy==0.0.53) (5.4.7)\n",
      "Requirement not upgraded as not directly required: plotly>=3.4.2 in c:\\users\\ianhelle\\appdata\\local\\continuum\\anaconda3\\lib\\site-packages (from Kqlmagic>=0.1.90->msticpy==0.0.53) (3.4.2)\n",
      "Requirement not upgraded as not directly required: prettytable>=0.7.2 in c:\\users\\ianhelle\\appdata\\local\\continuum\\anaconda3\\lib\\site-packages (from Kqlmagic>=0.1.90->msticpy==0.0.53) (0.7.2)\n",
      "Requirement not upgraded as not directly required: Markdown>=3.0.1 in c:\\users\\ianhelle\\appdata\\local\\continuum\\anaconda3\\lib\\site-packages (from Kqlmagic>=0.1.90->msticpy==0.0.53) (3.0.1)\n",
      "Requirement not upgraded as not directly required: scipy>=0.13.3 in c:\\users\\ianhelle\\appdata\\local\\continuum\\anaconda3\\lib\\site-packages (from scikit_learn>=0.20.2->msticpy==0.0.53) (1.1.0)\n",
      "Collecting maxminddb (from maxminddb_geolite2>=2018.0->msticpy==0.0.53)\n",
      "Requirement not upgraded as not directly required: MarkupSafe>=0.23 in c:\\users\\ianhelle\\appdata\\local\\continuum\\anaconda3\\lib\\site-packages (from Jinja2>=2.7->bokeh>=1.0.2->msticpy==0.0.53) (1.0)\n",
      "Requirement not upgraded as not directly required: jupyter_client in c:\\users\\ianhelle\\appdata\\local\\continuum\\anaconda3\\lib\\site-packages (from ipykernel>=4.5.1->ipywidgets>=7.4.2->msticpy==0.0.53) (5.2.3)\n",
      "Requirement not upgraded as not directly required: ipython-genutils in c:\\users\\ianhelle\\appdata\\local\\continuum\\anaconda3\\lib\\site-packages (from traitlets>=4.3.1->ipywidgets>=7.4.2->msticpy==0.0.53) (0.2.0)\n",
      "Requirement not upgraded as not directly required: notebook>=4.4.1 in c:\\users\\ianhelle\\appdata\\local\\continuum\\anaconda3\\lib\\site-packages (from widgetsnbextension~=3.4.0->ipywidgets>=7.4.2->msticpy==0.0.53) (5.6.0)\n",
      "Requirement not upgraded as not directly required: jsonschema!=2.5.0,>=2.4 in c:\\users\\ianhelle\\appdata\\local\\continuum\\anaconda3\\lib\\site-packages (from nbformat>=4.2.0->ipywidgets>=7.4.2->msticpy==0.0.53) (2.6.0)\n",
      "Requirement not upgraded as not directly required: jupyter-core in c:\\users\\ianhelle\\appdata\\local\\continuum\\anaconda3\\lib\\site-packages (from nbformat>=4.2.0->ipywidgets>=7.4.2->msticpy==0.0.53) (4.4.0)\n",
      "Requirement not upgraded as not directly required: parso>=0.3.0 in c:\\users\\ianhelle\\appdata\\local\\continuum\\anaconda3\\lib\\site-packages (from jedi>=0.10->ipython>=7.2.0->msticpy==0.0.53) (0.3.1)\n",
      "Requirement not upgraded as not directly required: wcwidth in c:\\users\\ianhelle\\appdata\\local\\continuum\\anaconda3\\lib\\site-packages (from prompt-toolkit<2.1.0,>=2.0.0->ipython>=7.2.0->msticpy==0.0.53) (0.1.7)\n",
      "Requirement not upgraded as not directly required: PyJWT>=1.0.0 in c:\\users\\ianhelle\\appdata\\local\\continuum\\anaconda3\\lib\\site-packages (from adal>=1.2.0->Kqlmagic>=0.1.90->msticpy==0.0.53) (1.7.1)\n",
      "Requirement not upgraded as not directly required: cryptography>=1.1.0 in c:\\users\\ianhelle\\appdata\\local\\continuum\\anaconda3\\lib\\site-packages (from adal>=1.2.0->Kqlmagic>=0.1.90->msticpy==0.0.53) (2.4.2)\n",
      "Requirement not upgraded as not directly required: retrying>=1.3.3 in c:\\users\\ianhelle\\appdata\\local\\continuum\\anaconda3\\lib\\site-packages (from plotly>=3.4.2->Kqlmagic>=0.1.90->msticpy==0.0.53) (1.3.3)\n",
      "Requirement not upgraded as not directly required: pyzmq>=13 in c:\\users\\ianhelle\\appdata\\local\\continuum\\anaconda3\\lib\\site-packages (from jupyter_client->ipykernel>=4.5.1->ipywidgets>=7.4.2->msticpy==0.0.53) (17.1.2)\n",
      "Requirement not upgraded as not directly required: nbconvert in c:\\users\\ianhelle\\appdata\\local\\continuum\\anaconda3\\lib\\site-packages (from notebook>=4.4.1->widgetsnbextension~=3.4.0->ipywidgets>=7.4.2->msticpy==0.0.53) (5.4.0)\n",
      "Requirement not upgraded as not directly required: terminado>=0.8.1 in c:\\users\\ianhelle\\appdata\\local\\continuum\\anaconda3\\lib\\site-packages (from notebook>=4.4.1->widgetsnbextension~=3.4.0->ipywidgets>=7.4.2->msticpy==0.0.53) (0.8.1)\n",
      "Requirement not upgraded as not directly required: Send2Trash in c:\\users\\ianhelle\\appdata\\local\\continuum\\anaconda3\\lib\\site-packages (from notebook>=4.4.1->widgetsnbextension~=3.4.0->ipywidgets>=7.4.2->msticpy==0.0.53) (1.5.0)\n",
      "Requirement not upgraded as not directly required: prometheus-client in c:\\users\\ianhelle\\appdata\\local\\continuum\\anaconda3\\lib\\site-packages (from notebook>=4.4.1->widgetsnbextension~=3.4.0->ipywidgets>=7.4.2->msticpy==0.0.53) (0.3.1)\n",
      "Requirement not upgraded as not directly required: cffi!=1.11.3,>=1.7 in c:\\users\\ianhelle\\appdata\\local\\continuum\\anaconda3\\lib\\site-packages (from cryptography>=1.1.0->adal>=1.2.0->Kqlmagic>=0.1.90->msticpy==0.0.53) (1.11.5)\n",
      "Requirement not upgraded as not directly required: asn1crypto>=0.21.0 in c:\\users\\ianhelle\\appdata\\local\\continuum\\anaconda3\\lib\\site-packages (from cryptography>=1.1.0->adal>=1.2.0->Kqlmagic>=0.1.90->msticpy==0.0.53) (0.24.0)\n",
      "Requirement not upgraded as not directly required: mistune>=0.8.1 in c:\\users\\ianhelle\\appdata\\local\\continuum\\anaconda3\\lib\\site-packages (from nbconvert->notebook>=4.4.1->widgetsnbextension~=3.4.0->ipywidgets>=7.4.2->msticpy==0.0.53) (0.8.3)\n",
      "Requirement not upgraded as not directly required: entrypoints>=0.2.2 in c:\\users\\ianhelle\\appdata\\local\\continuum\\anaconda3\\lib\\site-packages (from nbconvert->notebook>=4.4.1->widgetsnbextension~=3.4.0->ipywidgets>=7.4.2->msticpy==0.0.53) (0.2.3)\n",
      "Requirement not upgraded as not directly required: bleach in c:\\users\\ianhelle\\appdata\\local\\continuum\\anaconda3\\lib\\site-packages (from nbconvert->notebook>=4.4.1->widgetsnbextension~=3.4.0->ipywidgets>=7.4.2->msticpy==0.0.53) (2.1.4)\n",
      "Requirement not upgraded as not directly required: pandocfilters>=1.4.1 in c:\\users\\ianhelle\\appdata\\local\\continuum\\anaconda3\\lib\\site-packages (from nbconvert->notebook>=4.4.1->widgetsnbextension~=3.4.0->ipywidgets>=7.4.2->msticpy==0.0.53) (1.4.2)\n",
      "Requirement not upgraded as not directly required: testpath in c:\\users\\ianhelle\\appdata\\local\\continuum\\anaconda3\\lib\\site-packages (from nbconvert->notebook>=4.4.1->widgetsnbextension~=3.4.0->ipywidgets>=7.4.2->msticpy==0.0.53) (0.3.1)\n",
      "Requirement not upgraded as not directly required: defusedxml in c:\\users\\ianhelle\\appdata\\local\\continuum\\anaconda3\\lib\\site-packages (from nbconvert->notebook>=4.4.1->widgetsnbextension~=3.4.0->ipywidgets>=7.4.2->msticpy==0.0.53) (0.5.0)\n",
      "Requirement not upgraded as not directly required: pycparser in c:\\users\\ianhelle\\appdata\\local\\continuum\\anaconda3\\lib\\site-packages (from cffi!=1.11.3,>=1.7->cryptography>=1.1.0->adal>=1.2.0->Kqlmagic>=0.1.90->msticpy==0.0.53) (2.18)\n",
      "Requirement not upgraded as not directly required: html5lib!=1.0b1,!=1.0b2,!=1.0b3,!=1.0b4,!=1.0b5,!=1.0b6,!=1.0b7,!=1.0b8,>=0.99999999pre in c:\\users\\ianhelle\\appdata\\local\\continuum\\anaconda3\\lib\\site-packages (from bleach->nbconvert->notebook>=4.4.1->widgetsnbextension~=3.4.0->ipywidgets>=7.4.2->msticpy==0.0.53) (1.0.1)\n",
      "Requirement not upgraded as not directly required: webencodings in c:\\users\\ianhelle\\appdata\\local\\continuum\\anaconda3\\lib\\site-packages (from html5lib!=1.0b1,!=1.0b2,!=1.0b3,!=1.0b4,!=1.0b5,!=1.0b6,!=1.0b7,!=1.0b8,>=0.99999999pre->bleach->nbconvert->notebook>=4.4.1->widgetsnbextension~=3.4.0->ipywidgets>=7.4.2->msticpy==0.0.53) (0.5.1)\n",
      "Building wheels for collected packages: msticpy, bokeh, networkx\n",
      "  Running setup.py bdist_wheel for msticpy: started\n",
      "  Running setup.py bdist_wheel for msticpy: finished with status 'done'\n",
      "  Stored in directory: C:\\Users\\ianhelle\\AppData\\Local\\Temp\\pip-ephem-wheel-cache-melhmm8p\\wheels\\0f\\d8\\43\\39cdb6ea147c2dcb15129e10dbfa34ce4f4a10262423638cd4\n",
      "  Running setup.py bdist_wheel for bokeh: started\n",
      "  Running setup.py bdist_wheel for bokeh: finished with status 'done'\n",
      "  Stored in directory: C:\\Users\\ianhelle\\AppData\\Local\\pip\\Cache\\wheels\\7c\\cc\\1c\\a8f447869feb88844eed88b9524f1974ff6219c9b586b3bfab\n",
      "  Running setup.py bdist_wheel for networkx: started\n",
      "  Running setup.py bdist_wheel for networkx: finished with status 'done'\n",
      "  Stored in directory: C:\\Users\\ianhelle\\AppData\\Local\\pip\\Cache\\wheels\\68\\f8\\29\\b53346a112a07d30a5a84d53f19aeadaa1a474897c0423af91\n",
      "Successfully built msticpy bokeh networkx\n",
      "Installing collected packages: bokeh, networkx, urllib3, ipywidgets, Kqlmagic, maxminddb, maxminddb-geolite2, msticpy\n",
      "  Found existing installation: msticpy 0.0.53\n",
      "    Uninstalling msticpy-0.0.53:\n",
      "      Successfully uninstalled msticpy-0.0.53\n",
      "Successfully installed Kqlmagic-0.1.91 bokeh-1.0.4 ipywidgets-7.4.2 maxminddb-1.4.1 maxminddb-geolite2-2018.703 msticpy-0.0.53 networkx-2.2 urllib3-1.24.1\n"
     ]
    },
    {
     "name": "stderr",
     "output_type": "stream",
     "text": [
      "jupyter-console 5.2.0 has requirement prompt-toolkit<2.0.0,>=1.0.0, but you'll have prompt-toolkit 2.0.7 which is incompatible.\n",
      "  The script bokeh.exe is installed in 'C:\\Users\\ianhelle\\AppData\\Roaming\\Python\\Python37\\Scripts' which is not on PATH.\n",
      "  Consider adding this directory to PATH or, if you prefer to suppress this warning, use --no-warn-script-location.\n",
      "You are using pip version 10.0.1, however version 19.0.2 is available.\n",
      "You should consider upgrading via the 'python -m pip install --upgrade pip' command.\n"
     ]
    }
   ],
   "source": [
    "# Provisional location prior to migration to PyPi\n",
    "!pip install git+https://github.com/ianhelle/msticpy --upgrade --user"
   ]
  },
  {
   "cell_type": "markdown",
   "metadata": {},
   "source": [
    "## 3. Log into Log Analytics"
   ]
  },
  {
   "cell_type": "markdown",
   "metadata": {},
   "source": [
    "**A Note about authenticating to Log Analytics**<br>\n",
    "The most typical authentication method is user/device authentication, where you authenticate using your Azure Active Directory credentials and provide and one-time device ID that is bound to the authentication.<br>\n",
    "If you are using user/device authentication, run the following cell. \n",
    "- Click the 'Copy code to clipboard and authenticate' button.\n",
    "- This will pop up an Azure Active Directory authentication dialog (in a new tab or browser window). The device code will have been copied to the clipboard. \n",
    "- Select the text box and paste (Ctrl-V/Cmd-V) the copied value. \n",
    "- You should then be redirected to a user authentication page where you should authenticate with a user account that has permission to query your Log Analytics workspace.\n",
    "\n",
    "Use the following syntax if you are authenticating using an Azure Active Directory AppId and Secret:\n",
    "```\n",
    "%kql loganalytics://tenant(aad_tenant).workspace(WORKSPACE_ID).clientid(client_id).clientsecret(client_secret)\n",
    "```\n",
    "instead of\n",
    "```\n",
    "%kql loganalytics://code().workspace(WORKSPACE_ID)```\n",
    "See the KqlMagic github (above for more details)"
   ]
  },
  {
   "cell_type": "code",
   "execution_count": null,
   "metadata": {},
   "outputs": [],
   "source": [
    "%kql loganalytics://code;workspace=workspace_id;tenant=tenant_id;alias=\"asidb\""
   ]
  },
  {
   "cell_type": "markdown",
   "metadata": {},
   "source": [
    "## 4. Get a list of available data tables from Log Analytics"
   ]
  },
  {
   "cell_type": "markdown",
   "metadata": {},
   "source": [
    "1. Tables with records"
   ]
  },
  {
   "cell_type": "code",
   "execution_count": null,
   "metadata": {},
   "outputs": [],
   "source": [
    "%kql search * | summarize count() by Type"
   ]
  },
  {
   "cell_type": "markdown",
   "metadata": {},
   "source": [
    "2. All Tables in drop down"
   ]
  },
  {
   "cell_type": "code",
   "execution_count": null,
   "metadata": {
    "scrolled": true
   },
   "outputs": [],
   "source": [
    "import ipywidgets as widgets\n",
    "from IPython.display import display\n",
    "dbSchema = %kql --schema \"asidb@loganalytics\"\n",
    "tables = list(dbSchema.keys())\n",
    "selectedTable = widgets.Dropdown(options=tables, value=tables[24],description='Data Table:')\n",
    "display(selectedTable)"
   ]
  },
  {
   "cell_type": "markdown",
   "metadata": {},
   "source": [
    "## 5. Run a simple Kusto query"
   ]
  },
  {
   "cell_type": "code",
   "execution_count": null,
   "metadata": {},
   "outputs": [],
   "source": [
    "%kql SecurityEvent | take 5 | project Account, Computer\n",
    "df = _kql_raw_result_.to_dataframe()\n",
    "df"
   ]
  },
  {
   "cell_type": "code",
   "execution_count": null,
   "metadata": {},
   "outputs": [],
   "source": []
  }
 ],
 "metadata": {
  "celltoolbar": "Tags",
  "hide_input": false,
  "kernelspec": {
   "display_name": "Python [conda env:condadev]",
   "language": "python",
   "name": "conda-env-condadev-py"
  },
  "language_info": {
   "codemirror_mode": {
    "name": "ipython",
    "version": 3
   },
   "file_extension": ".py",
   "mimetype": "text/x-python",
   "name": "python",
   "nbconvert_exporter": "python",
   "pygments_lexer": "ipython3",
   "version": "3.7.1"
  },
  "toc": {
   "base_numbering": 1,
   "nav_menu": {},
   "number_sections": false,
   "sideBar": true,
   "skip_h1_title": false,
   "title_cell": "Table of Contents",
   "title_sidebar": "Contents",
   "toc_cell": false,
   "toc_position": {},
   "toc_section_display": true,
   "toc_window_display": false
  }
 },
 "nbformat": 4,
 "nbformat_minor": 2
}
