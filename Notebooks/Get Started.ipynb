{
 "cells": [
  {
   "cell_type": "markdown",
   "metadata": {
    "collapsed": true
   },
   "source": [
    "# Get Started\n",
    "\n",
    "__Notebook Version:__ 1.0<br>\n",
    "__Python Version:__ Python 3.6 (including Python 3.6 - AzureML)<br>\n",
    "__Kqlmagic:__ 0.1.90<br>\n",
    "__Platforms Supported:__<br>\n",
    "    -  Azure Notebooks Free Compute\n",
    "    -  Azure Notebooks DSVM\n",
    "__Data Source Required:__<br>\n",
    "    -  Log Analytics - SecurityEvent\n",
    "    \n",
    "### Description\n",
    "The notebook provides you basic knowledge to use Azure Sentinel Notebooks.\n",
    "\n",
    "<font color=red>When you switch between Azure Notebooks Free Compute and Data Science Virtual Machine (DSVM), you may need to select Python version: please select Python 3.6 for Free Compute, and Python 3.6 - AzureML for DSVM.</font>"
   ]
  },
  {
   "cell_type": "markdown",
   "metadata": {},
   "source": [
    "## Table of Contents\n",
    "\n",
    "1. Retrieve Log Analytics information \n",
    "2. Install Kqlmagic\n",
    "3. Log into Log Analytics\n",
    "4. Get a list of available data tables from Log Analytics\n",
    "5. Run a simple Kusto query"
   ]
  },
  {
   "cell_type": "markdown",
   "metadata": {},
   "source": [
    "## 1. Retrieve Log Analytics Information"
   ]
  },
  {
   "cell_type": "code",
   "execution_count": null,
   "metadata": {},
   "outputs": [],
   "source": [
    "path = %env PATH\n",
    "dsvm = False\n",
    "if '/dsvm/' in path:\n",
    "    dsvm = True\n",
    "    \n",
    "if dsvm == False:\n",
    "    # Run this if you are using Free Compute\n",
    "    from utils import config_reader as mod\n",
    "    workspace_id = mod.config_reader.read_config_values(\"config.json\")[3]\n",
    "    tenant_id = mod.config_reader.read_config_values(\"config.json\")[0]\n",
    "\n",
    "    ######################################################################\n",
    "    your_workspace_name = mod.config_reader.read_config_values(\"config.json\")[4]\n",
    "    print(\"Your Log Analytic Workspace: \" + your_workspace_name)\n",
    "    ######################################################################\n",
    "else:\n",
    "    # Run this if you are using DSVM.  You need to copy the values from config.json, if the file has no value, then you need to go to Log Analytics Portal to get the information.\n",
    "    tenant_id = input('tenant_id:')\n",
    "    subscription_id = input('subscription_id:')\n",
    "    resource_group = input('resource_group:')\n",
    "    workspace_id = input('workspace_id:')\n",
    "    workspace_name = input('workspace_name:')"
   ]
  },
  {
   "cell_type": "markdown",
   "metadata": {},
   "source": [
    "## 2. Install Required Packages\n",
    "These are the two core packages required by most Azure Sentinel Notebooks. You need to install these only once in each Azure Notebooks project (or other Python environment) but they are both updated regularly so it is worth running<br>\n",
    "```pip install {pkg} --upgrade```<br>\n",
    "every few weeks to get the latest features and fixes."
   ]
  },
  {
   "cell_type": "code",
   "execution_count": null,
   "metadata": {},
   "outputs": [],
   "source": [
    "import sys\n",
    "MIN_REQ_PYTHON = (3,6)\n",
    "if sys.version_info < MIN_REQ_PYTHON:\n",
    "    print('Check the Kernel->Change Kernel menu and ensure that Python 3.6')\n",
    "    print('or later is selected as the active kernel.')\n",
    "    sys.exit(\"Python %s.%s or later is required.\\n\" % MIN_REQ_PYTHON)"
   ]
  },
  {
   "cell_type": "markdown",
   "metadata": {},
   "source": [
    "### 2.1 Install KqlMagic \n",
    "For more information and sample notebooks go to [Kqlmagic github](https://github.com/Microsoft/jupyter-Kqlmagic)"
   ]
  },
  {
   "cell_type": "code",
   "execution_count": null,
   "metadata": {
    "scrolled": true
   },
   "outputs": [],
   "source": [
    "# run only once unless upgrade\n",
    "!pip install Kqlmagic --upgrade"
   ]
  },
  {
   "cell_type": "code",
   "execution_count": null,
   "metadata": {
    "scrolled": false
   },
   "outputs": [],
   "source": [
    "# Make sure you have 0.1.90 or above, if not, run Kqlmagic installation again\n",
    "%reload_ext Kqlmagic"
   ]
  },
  {
   "cell_type": "markdown",
   "metadata": {},
   "source": [
    "If you need any help for kql magic     --> %kql --help \"help\" -popup_window\n",
    "If you need any help for Log Analytics --> %kql --help \"LogAnalytics\""
   ]
  },
  {
   "cell_type": "markdown",
   "metadata": {},
   "source": [
    "### 2.2 Configure Azure Notebooks Project to use Python 3.6 by Default\n",
    "Unless it is configured, Azure notebooks will default to Python 3.5. Kqlmagic and the msticpy package both need Python 3.6 or later. If you do not configure a project default you will have to manually set this in the notebook every time you load a notebook.\n",
    "\n",
    "Follow the guidance in the *HowTos* folder - [Azure Notebooks - Configure Python Version](./HowTos/AzureNotebooks-ConfigurePythonVersion.ipynb)"
   ]
  },
  {
   "cell_type": "markdown",
   "metadata": {},
   "source": [
    "## 3. Log into Log Analytics"
   ]
  },
  {
   "cell_type": "code",
   "execution_count": null,
   "metadata": {},
   "outputs": [],
   "source": [
    "# Want to know more about Log Analytics Authentication? Please run this cell, then click the link below\n",
    "from IPython.display import HTML\n",
    "HTML('<a href=\"https://github.com/Azure/Orion/blob/master/Notebooks/Help.md\" target=\"_blank\")>Details about Log Analytics Authentication</a>')"
   ]
  },
  {
   "cell_type": "code",
   "execution_count": null,
   "metadata": {},
   "outputs": [],
   "source": [
    "# You must run this cell to log into Log Analytics to continue\n",
    "%kql loganalytics://code;workspace=workspace_id;tenant=tenant_id;alias=\"SentinelDB\""
   ]
  },
  {
   "cell_type": "markdown",
   "metadata": {},
   "source": [
    "## 4. Get a list of available data tables from Log Analytics"
   ]
  },
  {
   "cell_type": "markdown",
   "metadata": {},
   "source": [
    "1. Tables with records"
   ]
  },
  {
   "cell_type": "code",
   "execution_count": null,
   "metadata": {},
   "outputs": [],
   "source": [
    "%kql search * | summarize count() by Type"
   ]
  },
  {
   "cell_type": "markdown",
   "metadata": {},
   "source": [
    "2. All Tables in drop down"
   ]
  },
  {
   "cell_type": "code",
   "execution_count": null,
   "metadata": {
    "scrolled": true
   },
   "outputs": [],
   "source": [
    "import ipywidgets as widgets\n",
    "from IPython.display import display\n",
    "dbSchema = %kql --schema \"SentinelDB@loganalytics\"\n",
    "tables = list(dbSchema.keys())\n",
    "selected_table = widgets.Dropdown(options=tables, value=tables[1],description='Data Table:')\n",
    "display(selected_table)"
   ]
  },
  {
   "cell_type": "markdown",
   "metadata": {},
   "source": [
    "3. Choose columns from the selected table"
   ]
  },
  {
   "cell_type": "code",
   "execution_count": null,
   "metadata": {},
   "outputs": [],
   "source": [
    "columns = list(dbSchema[selected_table.value])\n",
    "columns.sort()\n",
    "selected_columns = widgets.SelectMultiple(options=columns, value=[],description='Data Columns:')\n",
    "display(selected_columns)"
   ]
  },
  {
   "cell_type": "markdown",
   "metadata": {},
   "source": [
    "4. List unique values for selected columns"
   ]
  },
  {
   "cell_type": "code",
   "execution_count": null,
   "metadata": {},
   "outputs": [],
   "source": [
    "%kql {selected_table.value} | where TimeGenerated >= ago(30d) | take 1000\n",
    "if len(_kql_raw_result_) > 0:\n",
    "    df = _kql_raw_result_.to_dataframe()\n",
    "else:\n",
    "    df = None\n",
    "    print('no data')"
   ]
  },
  {
   "cell_type": "code",
   "execution_count": null,
   "metadata": {},
   "outputs": [],
   "source": [
    "for index, column in enumerate(selected_columns.value):\n",
    "    unique_values = df[column].drop_duplicates().sort_values()\n",
    "    values_dropdown = widgets.Dropdown(options=unique_values, description=column)\n",
    "    display(values_dropdown)"
   ]
  },
  {
   "cell_type": "markdown",
   "metadata": {},
   "source": [
    "5. Search a term"
   ]
  },
  {
   "cell_type": "code",
   "execution_count": null,
   "metadata": {},
   "outputs": [],
   "source": [
    "# scope to a table and a column\n",
    "%kql search in ({selected_table.value}) {selected_columns.value[0]}: '*local service' | take 5"
   ]
  },
  {
   "cell_type": "markdown",
   "metadata": {},
   "source": [
    "## 5. Run a simple Kusto query"
   ]
  },
  {
   "cell_type": "code",
   "execution_count": null,
   "metadata": {},
   "outputs": [],
   "source": [
    "%kql SecurityEvent | take 5 | project Account, Computer\n",
    "df = _kql_raw_result_.to_dataframe()\n",
    "df"
   ]
  },
  {
   "cell_type": "code",
   "execution_count": null,
   "metadata": {},
   "outputs": [],
   "source": []
  }
 ],
 "metadata": {
  "celltoolbar": "Tags",
  "hide_input": false,
  "kernelspec": {
   "display_name": "Python [conda env:root]",
   "language": "python",
   "name": "conda-root-py"
  },
  "language_info": {
   "codemirror_mode": {
    "name": "ipython",
    "version": 3
   },
   "file_extension": ".py",
   "mimetype": "text/x-python",
   "name": "python",
   "nbconvert_exporter": "python",
   "pygments_lexer": "ipython3",
   "version": "3.7.0"
  },
  "toc": {
   "base_numbering": 1,
   "nav_menu": {},
   "number_sections": false,
   "sideBar": true,
   "skip_h1_title": false,
   "title_cell": "Table of Contents",
   "title_sidebar": "Contents",
   "toc_cell": false,
   "toc_position": {},
   "toc_section_display": true,
   "toc_window_display": false
  }
 },
 "nbformat": 4,
 "nbformat_minor": 2
}
