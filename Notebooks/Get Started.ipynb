{
 "cells": [
  {
   "cell_type": "markdown",
   "metadata": {
    "collapsed": true
   },
   "source": [
    "# Get Started\n",
    "\n",
    "__Notebook Version:__ 1.0<br>\n",
    "__Python Version:__ Python 3.6 (including Python 3.6 - AzureML)<br>\n",
    "__Kqlmagic:__ 0.1.90<br>\n",
    "__Platforms Supported:__<br>\n",
    "    -  Azure Notebooks Free Compute\n",
    "    -  Azure Notebooks DSVM\n",
    "__Data Source Required:__<br>\n",
    "    -  Log Analytics - SecurityEvent\n",
    "    \n",
    "### Description\n",
    "The notebook provides you basic knowledge to use Azure Sentinel Notebooks.\n",
    "\n",
    "<font color=red>When you switch between Azure Notebooks Free Compute and Data Science Virtual Machine (DSVM), you may need to select Python version: please select Python 3.6 for Free Compute, and Python 3.6 - AzureML for DSVM.</font>"
   ]
  },
  {
   "cell_type": "markdown",
   "metadata": {},
   "source": [
    "## Table of Contents\n",
    "\n",
    "1. Retrieve Log Analytics information \n",
    "2. Install Kqlmagic\n",
    "3. Log into Log Analytics\n",
    "4. Get a list of available data tables from Log Analytics\n",
    "5. Run a simple Kusto query"
   ]
  },
  {
   "cell_type": "markdown",
   "metadata": {},
   "source": [
    "## 1. Retrieve Log Analytics Information"
   ]
  },
  {
   "cell_type": "code",
   "execution_count": null,
   "metadata": {},
   "outputs": [],
   "source": [
    "path = %env PATH\n",
    "dsvm = False\n",
    "if '/dsvm/' in path:\n",
    "    dsvm = True\n",
    "    \n",
    "if dsvm == False:\n",
    "    # Run this if you are using Free Compute\n",
    "    from utils import config_reader as mod\n",
    "    workspace_id = mod.config_reader.read_config_values(\"config.json\")[3]\n",
    "    tenant_id = mod.config_reader.read_config_values(\"config.json\")[0]\n",
    "\n",
    "    ######################################################################\n",
    "    your_workspace_name = mod.config_reader.read_config_values(\"config.json\")[4]\n",
    "    print(\"Your Log Analytic Workspace: \" + your_workspace_name)\n",
    "    ######################################################################\n",
    "else:\n",
    "    # Run this if you are using DSVM.  You need to copy the values from config.json, if the file has no value, then you need to go to Log Analytics Portal to get the information.\n",
    "    tenant_id = input('tenant_id:')\n",
    "    subscription_id = input('subscription_id:')\n",
    "    resource_group = input('resource_group:')\n",
    "    workspace_id = input('workspace_id:')\n",
    "    workspace_name = input('workspace_name:')"
   ]
  },
  {
   "cell_type": "markdown",
   "metadata": {},
   "source": [
    "## 2. Install Required Packages\n",
    "These are the two core packages required by most Azure Sentinel Notebooks. You need to install these only once in each Azure Notebooks project (or other Python environment) but they are both updated regularly so it is worth running<br>\n",
    "```pip install {pkg} --upgrade```<br>\n",
    "every few weeks to get the latest features and fixes."
   ]
  },
  {
   "cell_type": "code",
   "execution_count": null,
   "metadata": {},
   "outputs": [],
   "source": [
    "import sys\n",
    "MIN_REQ_PYTHON = (3,6)\n",
    "if sys.version_info < MIN_REQ_PYTHON:\n",
    "    print('Check the Kernel->Change Kernel menu and ensure that Python 3.6')\n",
    "    print('or later is selected as the active kernel.')\n",
    "    sys.exit(\"Python %s.%s or later is required.\\n\" % MIN_REQ_PYTHON)\n",
    "    \n",
    "# You may needs these - should only need to uncomment and run once\n",
    "\n",
    "!pip install Kqlmagic --no-cache-dir --upgrade --user"
   ]
  },
  {
   "cell_type": "markdown",
   "metadata": {},
   "source": [
    "### 2.1 Install KqlMagic \n",
    "For more information and sample notebooks go to [Kqlmagic github](https://github.com/Microsoft/jupyter-Kqlmagic)"
   ]
  },
  {
   "cell_type": "code",
   "execution_count": null,
   "metadata": {
    "scrolled": true
   },
   "outputs": [],
   "source": [
    "# run only once unless upgrade\n",
    "!pip install Kqlmagic --upgrade"
   ]
  },
  {
   "cell_type": "code",
   "execution_count": null,
   "metadata": {
    "scrolled": false
   },
   "outputs": [],
   "source": [
    "# Make sure you have 0.1.90 or above, if not, run Kqlmagic installation again\n",
    "%reload_ext Kqlmagic"
   ]
  },
  {
   "cell_type": "markdown",
   "metadata": {},
   "source": [
    "If you need any help for kql magic     --> %kql --help \"help\" -popup_window\n",
    "If you need any help for Log Analytics --> %kql --help \"LogAnalytics\""
   ]
  },
  {
   "cell_type": "markdown",
   "metadata": {},
   "source": [
    "### 2.2 Install Sentinel Security Tools\n",
    "This is open source Python tools for working in Notebooks. It includes modules and classes for querying and analyzing data in the context of a security investigation or security hunting. \n",
    "\n",
    "For more information go the [msticpy github](https://github.com/microsoft/msticpy)"
   ]
  },
  {
   "cell_type": "code",
   "execution_count": null,
   "metadata": {},
   "outputs": [],
   "source": [
    "# Provisional location prior to migration to PyPi\n",
    "!pip install git+https://github.com/microsoft/msticpy --upgrade --user"
   ]
  },
  {
   "cell_type": "markdown",
   "metadata": {},
   "source": [
    "## 3. Log into Log Analytics"
   ]
  },
  {
   "cell_type": "markdown",
   "metadata": {},
   "source": [
    "**A Note about authenticating to Log Analytics**<br>\n",
    "The most typical authentication method is user/device authentication, where you authenticate using your Azure Active Directory credentials and provide and one-time device ID that is bound to the authentication.<br>\n",
    "If you are using user/device authentication, run the following cell. \n",
    "- Click the 'Copy code to clipboard and authenticate' button.\n",
    "- This will pop up an Azure Active Directory authentication dialog (in a new tab or browser window). The device code will have been copied to the clipboard. \n",
    "- Select the text box and paste (Ctrl-V/Cmd-V) the copied value. \n",
    "- You should then be redirected to a user authentication page where you should authenticate with a user account that has permission to query your Log Analytics workspace.\n",
    "\n",
    "Use the following syntax if you are authenticating using an Azure Active Directory AppId and Secret:\n",
    "```\n",
    "%kql loganalytics://tenant(aad_tenant).workspace(WORKSPACE_ID).clientid(client_id).clientsecret(client_secret)\n",
    "```\n",
    "instead of\n",
    "```\n",
    "%kql loganalytics://code().workspace(WORKSPACE_ID)```\n",
    "See the KqlMagic github (above for more details)"
   ]
  },
  {
   "cell_type": "code",
   "execution_count": null,
   "metadata": {},
   "outputs": [],
   "source": [
    "%kql loganalytics://code;workspace=workspace_id;tenant=tenant_id;alias=\"asidb\""
   ]
  },
  {
   "cell_type": "markdown",
   "metadata": {},
   "source": [
    "## 4. Get a list of available data tables from Log Analytics"
   ]
  },
  {
   "cell_type": "markdown",
   "metadata": {},
   "source": [
    "1. Tables with records"
   ]
  },
  {
   "cell_type": "code",
   "execution_count": null,
   "metadata": {},
   "outputs": [],
   "source": [
    "%kql search * | summarize count() by Type"
   ]
  },
  {
   "cell_type": "markdown",
   "metadata": {},
   "source": [
    "2. All Tables in drop down"
   ]
  },
  {
   "cell_type": "code",
   "execution_count": null,
   "metadata": {
    "scrolled": true
   },
   "outputs": [],
   "source": [
    "import ipywidgets as widgets\n",
    "from IPython.display import display\n",
    "dbSchema = %kql --schema \"asidb@loganalytics\"\n",
    "tables = list(dbSchema.keys())\n",
    "selectedTable = widgets.Dropdown(options=tables, value=tables[24],description='Data Table:')\n",
    "display(selectedTable)"
   ]
  },
  {
   "cell_type": "markdown",
   "metadata": {},
   "source": [
    "## 5. Run a simple Kusto query"
   ]
  },
  {
   "cell_type": "code",
   "execution_count": null,
   "metadata": {},
   "outputs": [],
   "source": [
    "%kql SecurityEvent | take 5 | project Account, Computer\n",
    "df = _kql_raw_result_.to_dataframe()\n",
    "df"
   ]
  },
  {
   "cell_type": "code",
   "execution_count": null,
   "metadata": {},
   "outputs": [],
   "source": []
  }
 ],
 "metadata": {
  "celltoolbar": "Tags",
  "hide_input": false,
  "kernelspec": {
   "display_name": "Python [conda env:root]",
   "language": "python",
   "name": "conda-root-py"
  },
  "language_info": {
   "codemirror_mode": {
    "name": "ipython",
    "version": 3
   },
   "file_extension": ".py",
   "mimetype": "text/x-python",
   "name": "python",
   "nbconvert_exporter": "python",
   "pygments_lexer": "ipython3",
   "version": "3.7.0"
  },
  "toc": {
   "base_numbering": 1,
   "nav_menu": {},
   "number_sections": false,
   "sideBar": true,
   "skip_h1_title": false,
   "title_cell": "Table of Contents",
   "title_sidebar": "Contents",
   "toc_cell": false,
   "toc_position": {},
   "toc_section_display": true,
   "toc_window_display": false
  }
 },
 "nbformat": 4,
 "nbformat_minor": 2
}
